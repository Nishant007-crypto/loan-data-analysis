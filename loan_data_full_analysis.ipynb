{
 "cells": [
  {
   "cell_type": "markdown",
   "id": "73828856",
   "metadata": {},
   "source": [
    "# 🏦 Loan Data Analysis\n",
    "**Dataset:** Customer banking and loan details\n",
    "\n",
    "**Entries:** ~30,000\n",
    "\n",
    "**Objective:** Analyze trends in income, loan behavior, and EMI details."
   ]
  },
  {
   "cell_type": "markdown",
   "id": "2c0816e8",
   "metadata": {},
   "source": [
    "## 📌 1. Data Loading & Initial Exploration"
   ]
  },
  {
   "cell_type": "code",
   "execution_count": null,
   "id": "0617a3cc",
   "metadata": {},
   "outputs": [],
   "source": [
    "import pandas as pd\n",
    "import matplotlib.pyplot as plt\n",
    "import seaborn as sns\n",
    "import numpy as np\n",
    "import warnings\n",
    "warnings.filterwarnings('ignore')\n",
    "\n",
    "# Load data\n",
    "df = pd.read_csv('../data/test.csv')\n",
    "df.head()"
   ]
  },
  {
   "cell_type": "markdown",
   "id": "46966719",
   "metadata": {},
   "source": [
    "## 🧹 2. Data Cleaning"
   ]
  },
  {
   "cell_type": "code",
   "execution_count": null,
   "id": "b1803b28",
   "metadata": {},
   "outputs": [],
   "source": [
    "# Convert dates\n",
    "df['DOB'] = pd.to_datetime(df['DOB'], errors='coerce')\n",
    "df['Lead_Creation_Date'] = pd.to_datetime(df['Lead_Creation_Date'], errors='coerce')\n",
    "\n",
    "# Create Age feature\n",
    "df['Age'] = pd.to_datetime('today').year - df['DOB'].dt.year\n",
    "df['Age'] = df['Age'].fillna(df['Age'].median())\n",
    "\n",
    "# Basic Cleaning: Fill nulls\n",
    "df['Employer_Category2'].fillna(df['Employer_Category2'].mode()[0], inplace=True)\n",
    "df['Employer_Category1'].fillna('Unknown', inplace=True)\n",
    "df['Employer_Code'].fillna('Unknown', inplace=True)\n",
    "df['Existing_EMI'].fillna(0, inplace=True)\n",
    "df['Loan_Amount'].fillna(0, inplace=True)\n",
    "df['Loan_Period'].fillna(0, inplace=True)\n",
    "df['Interest_Rate'].fillna(df['Interest_Rate'].median(), inplace=True)\n",
    "df['EMI'].fillna(0, inplace=True)\n",
    "\n",
    "# Check cleaned data\n",
    "df.info()"
   ]
  },
  {
   "cell_type": "markdown",
   "id": "a1b316aa",
   "metadata": {},
   "source": [
    "## 📊 3. Summary Visualizations & Insights"
   ]
  },
  {
   "cell_type": "code",
   "execution_count": null,
   "id": "2d90f0d5",
   "metadata": {},
   "outputs": [],
   "source": [
    "sns.histplot(df['Monthly_Income'], bins=50, kde=True)\n",
    "plt.title('Monthly Income Distribution')\n",
    "plt.xlabel('Monthly Income')\n",
    "plt.ylabel('Frequency')\n",
    "plt.show()"
   ]
  },
  {
   "cell_type": "code",
   "execution_count": null,
   "id": "b0ab14c9",
   "metadata": {},
   "outputs": [],
   "source": [
    "sns.histplot(df['Loan_Amount'], bins=50, kde=True)\n",
    "plt.title('Loan Amount Distribution')\n",
    "plt.xlabel('Loan Amount')\n",
    "plt.ylabel('Frequency')\n",
    "plt.show()"
   ]
  },
  {
   "cell_type": "code",
   "execution_count": null,
   "id": "db1c884a",
   "metadata": {},
   "outputs": [],
   "source": [
    "sns.scatterplot(x='Monthly_Income', y='EMI', data=df, alpha=0.5)\n",
    "plt.title('EMI vs Monthly Income')\n",
    "plt.xlabel('Monthly Income')\n",
    "plt.ylabel('EMI')\n",
    "plt.show()"
   ]
  },
  {
   "cell_type": "code",
   "execution_count": null,
   "id": "0868b7c4",
   "metadata": {},
   "outputs": [],
   "source": [
    "sns.boxplot(x='Primary_Bank_Type', y='Loan_Period', data=df)\n",
    "plt.title('Loan Period by Bank Type')\n",
    "plt.show()"
   ]
  },
  {
   "cell_type": "code",
   "execution_count": null,
   "id": "b579fe22",
   "metadata": {},
   "outputs": [],
   "source": [
    "sns.scatterplot(x='Age', y='Loan_Amount', data=df, alpha=0.5)\n",
    "plt.title('Age vs Loan Amount')\n",
    "plt.show()"
   ]
  },
  {
   "cell_type": "markdown",
   "id": "fe66128b",
   "metadata": {},
   "source": [
    "# 📘 Continued: Detailed EDA Analysis"
   ]
  },
  {
   "cell_type": "markdown",
   "id": "d3f7adf3",
   "metadata": {},
   "source": [
    "# 📊 Detailed EDA: Loan Data Insights"
   ]
  },
  {
   "cell_type": "markdown",
   "id": "ee0d7207",
   "metadata": {},
   "source": [
    "This notebook expands the basic analysis by exploring patterns in income, loans, age, banking behavior, and customer demographics."
   ]
  },
  {
   "cell_type": "code",
   "execution_count": null,
   "id": "3f93e7ec",
   "metadata": {},
   "outputs": [],
   "source": [
    "import pandas as pd\n",
    "import matplotlib.pyplot as plt\n",
    "import seaborn as sns\n",
    "import numpy as np\n",
    "import warnings\n",
    "warnings.filterwarnings('ignore')\n",
    "\n",
    "# Load dataset\n",
    "df = pd.read_csv('../data/test.csv')\n",
    "df['DOB'] = pd.to_datetime(df['DOB'], errors='coerce')\n",
    "df['Lead_Creation_Date'] = pd.to_datetime(df['Lead_Creation_Date'], errors='coerce')\n",
    "df['Age'] = pd.to_datetime('today').year - df['DOB'].dt.year\n",
    "df['Age'] = df['Age'].fillna(df['Age'].median())\n",
    "df['Existing_EMI'].fillna(0, inplace=True)\n",
    "df['Loan_Amount'].fillna(0, inplace=True)\n",
    "df['EMI'].fillna(0, inplace=True)\n",
    "df['Monthly_Income'] = df['Monthly_Income'].replace(0, np.nan)\n",
    "df['Monthly_Income'].fillna(df['Monthly_Income'].median(), inplace=True)\n"
   ]
  },
  {
   "cell_type": "markdown",
   "id": "b1370b38",
   "metadata": {},
   "source": [
    "## 💰 Income by Gender"
   ]
  },
  {
   "cell_type": "code",
   "execution_count": null,
   "id": "ce4b249d",
   "metadata": {},
   "outputs": [],
   "source": [
    "sns.boxplot(x='Gender', y='Monthly_Income', data=df)\n",
    "plt.title('Monthly Income Distribution by Gender')\n",
    "plt.ylabel('Monthly Income')\n",
    "plt.show()"
   ]
  },
  {
   "cell_type": "markdown",
   "id": "bd08cb13",
   "metadata": {},
   "source": [
    "## 🏢 Loan Amount by Employer Category"
   ]
  },
  {
   "cell_type": "code",
   "execution_count": null,
   "id": "b280de2e",
   "metadata": {},
   "outputs": [],
   "source": [
    "sns.boxplot(x='Employer_Category1', y='Loan_Amount', data=df)\n",
    "plt.xticks(rotation=45)\n",
    "plt.title('Loan Amount by Employer Category')\n",
    "plt.show()"
   ]
  },
  {
   "cell_type": "markdown",
   "id": "db87264b",
   "metadata": {},
   "source": [
    "## 🔄 EMI vs Loan Amount"
   ]
  },
  {
   "cell_type": "code",
   "execution_count": null,
   "id": "93d1b491",
   "metadata": {},
   "outputs": [],
   "source": [
    "sns.scatterplot(data=df, x='Loan_Amount', y='EMI', hue='Primary_Bank_Type')\n",
    "plt.title('EMI vs Loan Amount by Bank Type')\n",
    "plt.show()"
   ]
  },
  {
   "cell_type": "markdown",
   "id": "f64f093d",
   "metadata": {},
   "source": [
    "## 🧓 Age Distribution"
   ]
  },
  {
   "cell_type": "code",
   "execution_count": null,
   "id": "514f8639",
   "metadata": {},
   "outputs": [],
   "source": [
    "sns.histplot(df['Age'], bins=30, kde=True)\n",
    "plt.title('Distribution of Customer Age')\n",
    "plt.xlabel('Age')\n",
    "plt.ylabel('Count')\n",
    "plt.show()"
   ]
  },
  {
   "cell_type": "markdown",
   "id": "bca455cc",
   "metadata": {},
   "source": [
    "## 📈 Correlation Heatmap"
   ]
  },
  {
   "cell_type": "code",
   "execution_count": null,
   "id": "fd9af306",
   "metadata": {},
   "outputs": [],
   "source": [
    "plt.figure(figsize=(10,6))\n",
    "sns.heatmap(df[['Monthly_Income','Loan_Amount','EMI','Interest_Rate','Age']].corr(), annot=True, cmap='coolwarm')\n",
    "plt.title('Correlation Matrix')\n",
    "plt.show()"
   ]
  },
  {
   "cell_type": "markdown",
   "id": "9098b9a7",
   "metadata": {},
   "source": [
    "## 📌 Summary of Findings"
   ]
  },
  {
   "cell_type": "markdown",
   "id": "07115142",
   "metadata": {},
   "source": [
    "\n",
    "- 🔹 **Monthly Income** shows a wide range with some outliers.\n",
    "- 🔹 **Loan Amounts** are higher for certain employer categories.\n",
    "- 🔹 **EMI and Loan Amount** are strongly correlated, as expected.\n",
    "- 🔹 **Age distribution** skews between 25–45 years, showing a young to mid-career borrower base.\n",
    "- 🔹 **Interest Rate** has weak correlation with income but moderate with EMI.\n",
    "- 🔹 **Bank Type** affects EMI pattern slightly but not drastically.\n",
    "\n",
    "These insights can guide financial institutions to segment and prioritize leads more effectively.\n"
   ]
  }
 ],
 "metadata": {},
 "nbformat": 4,
 "nbformat_minor": 5
}
